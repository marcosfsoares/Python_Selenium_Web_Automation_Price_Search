{
 "cells": [
  {
   "cell_type": "markdown",
   "metadata": {},
   "source": [
    "# Projeto Automação Web - Busca de Preços\n",
    "\n",
    "### Objetivo: treinar um projeto em que a gente tenha que usar automações web com Selenium para buscar as informações que precisamos\n",
    "\n",
    "- Já fizemos um projeto com esse objetivo no Módulo de Python e Web, mas não custa nada treinar mais um pouco.\n",
    "\n",
    "### Como vai funcionar:\n",
    "\n",
    "- Imagina que você trabalha na área de compras de uma empresa e precisa fazer uma comparação de fornecedores para os seus insumos/produtos.\n",
    "\n",
    "- Nessa hora, você vai constantemente buscar nos sites desses fornecedores os produtos disponíveis e o preço, afinal, cada um deles pode fazer promoção em momentos diferentes e com valores diferentes.\n",
    "\n",
    "- Seu objetivo: descobrir o produto mais barato e atualizar isso em uma planilha.\n",
    "- Caso o valor seja 20% (ou mais) abaixo do preço original, queremos também ser avisados por e-mail para poder agir rápido e aproveitar essa promoção.\n",
    "\n",
    "- No nosso caso, vamos fazer com produtos comuns em sites como Amazon, Magazine Luiza e Lojas Americanas, mas a ideia é a mesma.\n",
    "\n",
    "### O que temos disponível?\n",
    "\n",
    "- Planilha de Produtos, com os nomes dos produtos e o link em cada loja, além do preço original cadastrado.\n",
    "\n",
    "### O que devemos fazer:\n",
    "\n",
    "- Cadastrar na coluna Preço Atual o menor preço encontrado e na Coluna Local o nome do Local onde foi encontrado esse preço\n",
    "- Enviar um e-mail para compras com a notificação do menor preço encontrado e o link de compra, caso o preço encontrado esteja com 20% ou mais de desconto em relação ao preço original. (Vou usar o e-mail pythonimpressionador+compras@gmail.com. Use um e-mail seu para fazer os testes para ver se a mensagem está chegando)\n",
    "\n",
    "### Adicional:\n",
    "\n",
    "- Podemos colocar esse programa para rodar de 4 em 4 horas ou então todo dia as 10hrs da manhã. Podemos fazer isso via agendador de tarefas do Windows ou então deixar o código rodando em background com um time.sleep(tempo)\n",
    "- Caso queira, você pode deixar o navegador sem aparecer ao término do seu código, para ficar mais sutil o seu programa"
   ]
  },
  {
   "cell_type": "code",
   "execution_count": 197,
   "metadata": {
    "scrolled": true
   },
   "outputs": [],
   "source": [
    "import pandas as pd\n",
    "from selenium import webdriver"
   ]
  },
  {
   "cell_type": "code",
   "execution_count": 198,
   "metadata": {
    "scrolled": true
   },
   "outputs": [
    {
     "data": {
      "text/html": [
       "<div>\n",
       "<style scoped>\n",
       "    .dataframe tbody tr th:only-of-type {\n",
       "        vertical-align: middle;\n",
       "    }\n",
       "\n",
       "    .dataframe tbody tr th {\n",
       "        vertical-align: top;\n",
       "    }\n",
       "\n",
       "    .dataframe thead th {\n",
       "        text-align: right;\n",
       "    }\n",
       "</style>\n",
       "<table border=\"1\" class=\"dataframe\">\n",
       "  <thead>\n",
       "    <tr style=\"text-align: right;\">\n",
       "      <th></th>\n",
       "      <th>Link Produto</th>\n",
       "      <th>Amazon</th>\n",
       "      <th>Lojas Americanas</th>\n",
       "      <th>Magazine Luiza</th>\n",
       "      <th>Preço Original</th>\n",
       "      <th>Preço Atual</th>\n",
       "      <th>Local</th>\n",
       "    </tr>\n",
       "  </thead>\n",
       "  <tbody>\n",
       "    <tr>\n",
       "      <th>0</th>\n",
       "      <td>iPhone 11 Apple 64GB Preto</td>\n",
       "      <td>https://www.amazon.com.br/IPHONE-11-PRETO-TELA...</td>\n",
       "      <td>https://www.americanas.com.br/produto/16113159...</td>\n",
       "      <td>https://www.magazineluiza.com.br/iphone-11-app...</td>\n",
       "      <td>5297</td>\n",
       "      <td>4277.07</td>\n",
       "      <td>Lojas Americanas</td>\n",
       "    </tr>\n",
       "    <tr>\n",
       "      <th>1</th>\n",
       "      <td>Smart TV LED 50'' LG Ultra HD 4K Thinq AI</td>\n",
       "      <td>https://www.amazon.com.br/LG-50UN731C-Assisten...</td>\n",
       "      <td>https://www.americanas.com.br/produto/3120097572</td>\n",
       "      <td>https://www.magazineluiza.com.br/smart-tv-lg-l...</td>\n",
       "      <td>2900</td>\n",
       "      <td>2415.92</td>\n",
       "      <td>Amazon</td>\n",
       "    </tr>\n",
       "  </tbody>\n",
       "</table>\n",
       "</div>"
      ],
      "text/plain": [
       "                                Link Produto  \\\n",
       "0                 iPhone 11 Apple 64GB Preto   \n",
       "1  Smart TV LED 50'' LG Ultra HD 4K Thinq AI   \n",
       "\n",
       "                                              Amazon  \\\n",
       "0  https://www.amazon.com.br/IPHONE-11-PRETO-TELA...   \n",
       "1  https://www.amazon.com.br/LG-50UN731C-Assisten...   \n",
       "\n",
       "                                    Lojas Americanas  \\\n",
       "0  https://www.americanas.com.br/produto/16113159...   \n",
       "1   https://www.americanas.com.br/produto/3120097572   \n",
       "\n",
       "                                      Magazine Luiza  Preço Original  \\\n",
       "0  https://www.magazineluiza.com.br/iphone-11-app...            5297   \n",
       "1  https://www.magazineluiza.com.br/smart-tv-lg-l...            2900   \n",
       "\n",
       "   Preço Atual             Local  \n",
       "0      4277.07  Lojas Americanas  \n",
       "1      2415.92            Amazon  "
      ]
     },
     "metadata": {},
     "output_type": "display_data"
    },
    {
     "name": "stdout",
     "output_type": "stream",
     "text": [
      "https://www.amazon.com.br/IPHONE-11-PRETO-TELA-C%C3%82MERA/dp/B086VQTMPR/ref=sr_1_1?__mk_pt_BR=%C3%85M%C3%85%C5%BD%C3%95%C3%91&dchild=1&keywords=iphone+11&qid=1606856566&sr=8-1\n"
     ]
    }
   ],
   "source": [
    "desconto_min = 0.1\n",
    "produtos_df = pd.read_excel(r'Produtos.xlsx')\n",
    "produtos_df = produtos_df.fillna('-')\n",
    "display(produtos_df)\n",
    "print(produtos_df['Amazon'][0])"
   ]
  },
  {
   "cell_type": "code",
   "execution_count": 199,
   "metadata": {},
   "outputs": [],
   "source": [
    "# options = webdriver.ChromeOptions()\n",
    "# options.add_argument(\"--headless\")\n",
    "driver = webdriver.Chrome()\n",
    "driver.set_window_position(-10000, 0)\n",
    "\n",
    "\n",
    "def tratar_texto(texto):\n",
    "     return float(texto.replace('R$','').replace('.','').replace(',','.'))\n"
   ]
  },
  {
   "cell_type": "code",
   "execution_count": 200,
   "metadata": {},
   "outputs": [],
   "source": [
    "# Passos\n",
    "# Entrar no site da Amazon\n",
    "# Descobrir o objeto aonde está o preço\n",
    "# Armazenar o preço em uma variável"
   ]
  },
  {
   "cell_type": "code",
   "execution_count": null,
   "metadata": {},
   "outputs": [],
   "source": []
  },
  {
   "cell_type": "code",
   "execution_count": null,
   "metadata": {},
   "outputs": [],
   "source": []
  },
  {
   "cell_type": "code",
   "execution_count": 201,
   "metadata": {
    "scrolled": true
   },
   "outputs": [
    {
     "name": "stdout",
     "output_type": "stream",
     "text": [
      "iPhone 11 Apple 64GB Preto\n",
      "(4277.07, 'Lojas Americanas')\n",
      "Produto Smart TV LED 50'' LG Ultra HD 4K Thinq AI não disponível nas Lojas Americanas\n",
      "Smart TV LED 50'' LG Ultra HD 4K Thinq AI\n",
      "(2415.92, 'Amazon')\n"
     ]
    }
   ],
   "source": [
    "for i, linha in produtos_df.iterrows():\n",
    "    \n",
    "    driver.get(linha['Amazon'])\n",
    "    try:\n",
    "        preco_amazon = driver.find_element_by_class_name('priceBlockSavingsString').text\n",
    "    except:\n",
    "        preco_amazon = driver.find_element_by_css_selector('#olp_feature_div span.a-size-base').text\n",
    "    preco_amazon = tratar_texto(preco_amazon)\n",
    "    \n",
    "    # Entrar no site da Lojas Americanas\n",
    "    driver.get(linha['Lojas Americanas'])\n",
    "    try:\n",
    "        preco_lame = driver.find_element_by_class_name('src__BestPrice-sc-1jvw02c-5').text\n",
    "        preco_lame = tratar_texto(preco_lame)\n",
    "    except:\n",
    "        print('Produto {} não disponível nas Lojas Americanas'.format(linha['Link Produto']))\n",
    "        preco_lame = linha['Preço Original']*3\n",
    "    \n",
    "        # Entrar no site do Magazine Luiza\n",
    "    driver.get(linha['Magazine Luiza'])\n",
    "    try:\n",
    "        preco_magalu = driver.find_element_by_class_name('price-template__text').text\n",
    "        preco_magalu = tratar_texto(preco_magalu)\n",
    "    except:\n",
    "        print('Produto {} não disponível na loja Magazine Luiza'.format(linha['Link Produto']))\n",
    "        preco_magalu = linha['Preço Original']*3\n",
    "    preco_original = linha['Preço Original']\n",
    "    lista_precos = [(preco_amazon, 'Amazon'), (preco_lame, 'Lojas Americanas'), (preco_magalu, 'Magazine Luiza'), (preco_original, 'Preço Original')]\n",
    "    lista_precos.sort()\n",
    "    print(linha['Link Produto'])\n",
    "    print(lista_precos[0])\n",
    "    \n",
    "    produtos_df.loc[i, 'Preço Atual'] = lista_precos[0][0]\n",
    "    produtos_df.loc[i, 'Local'] = lista_precos[0][1]\n",
    "    \n",
    "    if lista_precos[0][0] <= preco_original*(1 - desconto_min):\n",
    "        enviar_email = True\n",
    "driver.quit()"
   ]
  },
  {
   "cell_type": "code",
   "execution_count": 202,
   "metadata": {
    "scrolled": true
   },
   "outputs": [
    {
     "data": {
      "text/html": [
       "<div>\n",
       "<style scoped>\n",
       "    .dataframe tbody tr th:only-of-type {\n",
       "        vertical-align: middle;\n",
       "    }\n",
       "\n",
       "    .dataframe tbody tr th {\n",
       "        vertical-align: top;\n",
       "    }\n",
       "\n",
       "    .dataframe thead th {\n",
       "        text-align: right;\n",
       "    }\n",
       "</style>\n",
       "<table border=\"1\" class=\"dataframe\">\n",
       "  <thead>\n",
       "    <tr style=\"text-align: right;\">\n",
       "      <th></th>\n",
       "      <th>Link Produto</th>\n",
       "      <th>Amazon</th>\n",
       "      <th>Lojas Americanas</th>\n",
       "      <th>Magazine Luiza</th>\n",
       "      <th>Preço Original</th>\n",
       "      <th>Preço Atual</th>\n",
       "      <th>Local</th>\n",
       "    </tr>\n",
       "  </thead>\n",
       "  <tbody>\n",
       "    <tr>\n",
       "      <th>0</th>\n",
       "      <td>iPhone 11 Apple 64GB Preto</td>\n",
       "      <td>https://www.amazon.com.br/IPHONE-11-PRETO-TELA...</td>\n",
       "      <td>https://www.americanas.com.br/produto/16113159...</td>\n",
       "      <td>https://www.magazineluiza.com.br/iphone-11-app...</td>\n",
       "      <td>5297</td>\n",
       "      <td>4277.07</td>\n",
       "      <td>Lojas Americanas</td>\n",
       "    </tr>\n",
       "    <tr>\n",
       "      <th>1</th>\n",
       "      <td>Smart TV LED 50'' LG Ultra HD 4K Thinq AI</td>\n",
       "      <td>https://www.amazon.com.br/LG-50UN731C-Assisten...</td>\n",
       "      <td>https://www.americanas.com.br/produto/3120097572</td>\n",
       "      <td>https://www.magazineluiza.com.br/smart-tv-lg-l...</td>\n",
       "      <td>2900</td>\n",
       "      <td>2415.92</td>\n",
       "      <td>Amazon</td>\n",
       "    </tr>\n",
       "  </tbody>\n",
       "</table>\n",
       "</div>"
      ],
      "text/plain": [
       "                                Link Produto  \\\n",
       "0                 iPhone 11 Apple 64GB Preto   \n",
       "1  Smart TV LED 50'' LG Ultra HD 4K Thinq AI   \n",
       "\n",
       "                                              Amazon  \\\n",
       "0  https://www.amazon.com.br/IPHONE-11-PRETO-TELA...   \n",
       "1  https://www.amazon.com.br/LG-50UN731C-Assisten...   \n",
       "\n",
       "                                    Lojas Americanas  \\\n",
       "0  https://www.americanas.com.br/produto/16113159...   \n",
       "1   https://www.americanas.com.br/produto/3120097572   \n",
       "\n",
       "                                      Magazine Luiza  Preço Original  \\\n",
       "0  https://www.magazineluiza.com.br/iphone-11-app...            5297   \n",
       "1  https://www.magazineluiza.com.br/smart-tv-lg-l...            2900   \n",
       "\n",
       "   Preço Atual             Local  \n",
       "0      4277.07  Lojas Americanas  \n",
       "1      2415.92            Amazon  "
      ]
     },
     "metadata": {},
     "output_type": "display_data"
    }
   ],
   "source": [
    "display(produtos_df)"
   ]
  },
  {
   "cell_type": "code",
   "execution_count": 203,
   "metadata": {
    "scrolled": false
   },
   "outputs": [],
   "source": [
    "# salvar arquivo\n",
    "\n",
    "produtos_df.to_excel('Produtos.xlsx', index=False)\n",
    "\n"
   ]
  },
  {
   "cell_type": "code",
   "execution_count": 204,
   "metadata": {},
   "outputs": [
    {
     "name": "stdout",
     "output_type": "stream",
     "text": [
      "Email enviado\n"
     ]
    }
   ],
   "source": [
    "#enviar email\n",
    "import win32com.client as win32\n",
    "outlook = win32.Dispatch('outlook.application')\n",
    "\n",
    "# filtrar a tabela de produtos\n",
    "tabela_filtrada = produtos_df.loc[produtos_df['Preço Atual'] <= produtos_df['Preço Original']*(1 - desconto_min), :]\n",
    "if enviar_email:\n",
    "    mail = outlook.CreateItem(0)\n",
    "    mail.To = 'mfsoaresig+1@gmail.com'\n",
    "    mail.CC = 'marso2001@uol.com.br'\n",
    "    mail.BCC = 'soares.marcos@icloud.com'\n",
    "    mail.Subject = 'URGENTE - Menor preço detectado'\n",
    "    mail.HTMLBody = f'<p>Esse são os produtos com mais de {desconto_min:.0%} de desconto</p>{tabela_filtrada.to_html()}'\n",
    "    \n",
    "    mail.Send()\n",
    "print('Email enviado')"
   ]
  },
  {
   "cell_type": "code",
   "execution_count": null,
   "metadata": {},
   "outputs": [],
   "source": []
  }
 ],
 "metadata": {
  "kernelspec": {
   "display_name": "Python 3",
   "language": "python",
   "name": "python3"
  },
  "language_info": {
   "codemirror_mode": {
    "name": "ipython",
    "version": 3
   },
   "file_extension": ".py",
   "mimetype": "text/x-python",
   "name": "python",
   "nbconvert_exporter": "python",
   "pygments_lexer": "ipython3",
   "version": "3.8.5"
  }
 },
 "nbformat": 4,
 "nbformat_minor": 4
}
